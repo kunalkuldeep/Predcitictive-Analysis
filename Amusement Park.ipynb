{
 "cells": [
  {
   "cell_type": "code",
   "execution_count": 676,
   "metadata": {},
   "outputs": [],
   "source": [
    "import pandas as pd\n",
    "import numpy as np\n",
    "import matplotlib.pyplot as plt\n",
    "import matplotlib as plot\n",
    "import math\n",
    "import seaborn as sns\n",
    "import sklearn\n",
    "from sklearn.metrics import r2_score"
   ]
  },
  {
   "cell_type": "code",
   "execution_count": 671,
   "metadata": {
    "scrolled": true
   },
   "outputs": [
    {
     "data": {
      "text/html": [
       "<div>\n",
       "<style scoped>\n",
       "    .dataframe tbody tr th:only-of-type {\n",
       "        vertical-align: middle;\n",
       "    }\n",
       "\n",
       "    .dataframe tbody tr th {\n",
       "        vertical-align: top;\n",
       "    }\n",
       "\n",
       "    .dataframe thead th {\n",
       "        text-align: right;\n",
       "    }\n",
       "</style>\n",
       "<table border=\"1\" class=\"dataframe\">\n",
       "  <thead>\n",
       "    <tr style=\"text-align: right;\">\n",
       "      <th></th>\n",
       "      <th>TimeStamp</th>\n",
       "      <th>StandardTemperature</th>\n",
       "      <th>Humidity</th>\n",
       "      <th>Wind</th>\n",
       "      <th>Ticket1</th>\n",
       "      <th>Ticket2</th>\n",
       "    </tr>\n",
       "  </thead>\n",
       "  <tbody>\n",
       "    <tr>\n",
       "      <th>0</th>\n",
       "      <td>2068-04-18 03:00:00</td>\n",
       "      <td>0.284836</td>\n",
       "      <td>47.75442</td>\n",
       "      <td>0.221554</td>\n",
       "      <td>1</td>\n",
       "      <td>3</td>\n",
       "    </tr>\n",
       "    <tr>\n",
       "      <th>1</th>\n",
       "      <td>2068-05-20 19:00:00</td>\n",
       "      <td>0.614588</td>\n",
       "      <td>48.72900</td>\n",
       "      <td>0.413520</td>\n",
       "      <td>108</td>\n",
       "      <td>233</td>\n",
       "    </tr>\n",
       "    <tr>\n",
       "      <th>2</th>\n",
       "      <td>2067-06-10 21:00:00</td>\n",
       "      <td>0.614588</td>\n",
       "      <td>28.26282</td>\n",
       "      <td>0.103405</td>\n",
       "      <td>52</td>\n",
       "      <td>197</td>\n",
       "    </tr>\n",
       "    <tr>\n",
       "      <th>3</th>\n",
       "      <td>2067-01-08 02:00:00</td>\n",
       "      <td>0.269797</td>\n",
       "      <td>77.96640</td>\n",
       "      <td>0.000000</td>\n",
       "      <td>6</td>\n",
       "      <td>28</td>\n",
       "    </tr>\n",
       "    <tr>\n",
       "      <th>4</th>\n",
       "      <td>2067-08-07 00:00:00</td>\n",
       "      <td>0.689581</td>\n",
       "      <td>53.60190</td>\n",
       "      <td>0.088661</td>\n",
       "      <td>34</td>\n",
       "      <td>81</td>\n",
       "    </tr>\n",
       "    <tr>\n",
       "      <th>5</th>\n",
       "      <td>2068-02-27 22:00:00</td>\n",
       "      <td>0.314813</td>\n",
       "      <td>43.85610</td>\n",
       "      <td>0.088661</td>\n",
       "      <td>10</td>\n",
       "      <td>54</td>\n",
       "    </tr>\n",
       "    <tr>\n",
       "      <th>6</th>\n",
       "      <td>2067-08-06 00:00:00</td>\n",
       "      <td>0.689581</td>\n",
       "      <td>53.60190</td>\n",
       "      <td>0.191967</td>\n",
       "      <td>61</td>\n",
       "      <td>74</td>\n",
       "    </tr>\n",
       "    <tr>\n",
       "      <th>7</th>\n",
       "      <td>2068-05-01 14:00:00</td>\n",
       "      <td>0.479640</td>\n",
       "      <td>24.36450</td>\n",
       "      <td>0.384033</td>\n",
       "      <td>51</td>\n",
       "      <td>167</td>\n",
       "    </tr>\n",
       "    <tr>\n",
       "      <th>8</th>\n",
       "      <td>2067-06-12 20:00:00</td>\n",
       "      <td>0.614588</td>\n",
       "      <td>67.24602</td>\n",
       "      <td>0.191967</td>\n",
       "      <td>85</td>\n",
       "      <td>196</td>\n",
       "    </tr>\n",
       "    <tr>\n",
       "      <th>9</th>\n",
       "      <td>2067-01-18 19:00:00</td>\n",
       "      <td>0.224881</td>\n",
       "      <td>90.63594</td>\n",
       "      <td>0.000000</td>\n",
       "      <td>1</td>\n",
       "      <td>52</td>\n",
       "    </tr>\n",
       "  </tbody>\n",
       "</table>\n",
       "</div>"
      ],
      "text/plain": [
       "             TimeStamp  StandardTemperature  Humidity      Wind  Ticket1  \\\n",
       "0  2068-04-18 03:00:00             0.284836  47.75442  0.221554        1   \n",
       "1  2068-05-20 19:00:00             0.614588  48.72900  0.413520      108   \n",
       "2  2067-06-10 21:00:00             0.614588  28.26282  0.103405       52   \n",
       "3  2067-01-08 02:00:00             0.269797  77.96640  0.000000        6   \n",
       "4  2067-08-07 00:00:00             0.689581  53.60190  0.088661       34   \n",
       "5  2068-02-27 22:00:00             0.314813  43.85610  0.088661       10   \n",
       "6  2067-08-06 00:00:00             0.689581  53.60190  0.191967       61   \n",
       "7  2068-05-01 14:00:00             0.479640  24.36450  0.384033       51   \n",
       "8  2067-06-12 20:00:00             0.614588  67.24602  0.191967       85   \n",
       "9  2067-01-18 19:00:00             0.224881  90.63594  0.000000        1   \n",
       "\n",
       "   Ticket2  \n",
       "0        3  \n",
       "1      233  \n",
       "2      197  \n",
       "3       28  \n",
       "4       81  \n",
       "5       54  \n",
       "6       74  \n",
       "7      167  \n",
       "8      196  \n",
       "9       52  "
      ]
     },
     "execution_count": 671,
     "metadata": {},
     "output_type": "execute_result"
    }
   ],
   "source": [
    "df= pd.read_csv(\"Train.csv\")\n",
    "df.head(10)"
   ]
  },
  {
   "cell_type": "code",
   "execution_count": 680,
   "metadata": {},
   "outputs": [
    {
     "data": {
      "text/plain": [
       "<matplotlib.axes._subplots.AxesSubplot at 0x1c6380c5c18>"
      ]
     },
     "execution_count": 680,
     "metadata": {},
     "output_type": "execute_result"
    },
    {
     "data": {
      "image/png": "[encoded data removed]",
      "text/plain": [
       "<Figure size 432x288 with 2 Axes>"
      ]
     },
     "metadata": {
      "needs_background": "light"
     },
     "output_type": "display_data"
    }
   ],
   "source": [
    "import seaborn as sns\n",
    "corr = df.corr()\n",
    "sns.heatmap(corr, \n",
    "            xticklabels=corr.columns.values,\n",
    "            yticklabels=corr.columns.values)"
   ]
  },
  {
   "cell_type": "code",
   "execution_count": 675,
   "metadata": {},
   "outputs": [
    {
     "data": {
      "image/png": "[encoded data removed]",
      "text/plain": [
       "<Figure size 432x288 with 1 Axes>"
      ]
     },
     "metadata": {
      "needs_background": "light"
     },
     "output_type": "display_data"
    },
    {
     "data": {
      "image/png": "[encoded data removed]",
      "text/plain": [
       "<Figure size 432x288 with 1 Axes>"
      ]
     },
     "metadata": {
      "needs_background": "light"
     },
     "output_type": "display_data"
    },
    {
     "data": {
      "image/png": "[encoded data removed]",
      "text/plain": [
       "<Figure size 432x288 with 1 Axes>"
      ]
     },
     "metadata": {
      "needs_background": "light"
     },
     "output_type": "display_data"
    },
    {
     "data": {
      "image/png": "[encoded data removed]",
      "text/plain": [
       "<Figure size 432x288 with 1 Axes>"
      ]
     },
     "metadata": {
      "needs_background": "light"
     },
     "output_type": "display_data"
    },
    {
     "data": {
      "image/png": "[encoded data removed]",
      "text/plain": [
       "<Figure size 432x288 with 1 Axes>"
      ]
     },
     "metadata": {
      "needs_background": "light"
     },
     "output_type": "display_data"
    },
    {
     "data": {
      "image/png": "[encoded data removed]",
      "text/plain": [
       "<Figure size 432x288 with 1 Axes>"
      ]
     },
     "metadata": {
      "needs_background": "light"
     },
     "output_type": "display_data"
    }
   ],
   "source": [
    "# Plots on Data Analysis\n",
    "plt.scatter(df['StandardTemperature'], df['Ticket1'], color='red')\n",
    "plt.title('StandardTemperature vs Ticket1', fontsize=14)\n",
    "plt.xlabel('StandardTemperature', fontsize=14)\n",
    "plt.ylabel('Ticket1', fontsize=14)\n",
    "plt.grid(True)\n",
    "plt.show()\n",
    "\n",
    "plt.scatter(df['Humidity'], df['Ticket1'], color='red')\n",
    "plt.title('Humidity vs Ticket1', fontsize=14)\n",
    "plt.xlabel('Humidity', fontsize=14)\n",
    "plt.ylabel('Ticket1', fontsize=14)\n",
    "plt.grid(True)\n",
    "plt.show()\n",
    "\n",
    "plt.scatter(df['Wind'], df['Ticket1'], color='red')\n",
    "plt.title('Wind vs Ticket1', fontsize=14)\n",
    "plt.xlabel('wind', fontsize=14)\n",
    "plt.ylabel('Ticket1', fontsize=14)\n",
    "plt.grid(True)\n",
    "plt.show()\n",
    "\n",
    "plt.scatter(df['StandardTemperature'], df['Ticket2'], color='red')\n",
    "plt.title('StandardTemperature vs Ticket2', fontsize=14)\n",
    "plt.xlabel('StandardTemperature', fontsize=14)\n",
    "plt.ylabel('Ticket2', fontsize=14)\n",
    "plt.grid(True)\n",
    "plt.show()\n",
    "\n",
    "plt.scatter(df['Humidity'], df['Ticket2'], color='red')\n",
    "plt.title('Humidity vs Ticket2', fontsize=14)\n",
    "plt.xlabel('Humidity', fontsize=14)\n",
    "plt.ylabel('Ticket2', fontsize=14)\n",
    "plt.grid(True)\n",
    "plt.show()\n",
    "\n",
    "plt.scatter(df['Wind'], df['Ticket2'], color='red')\n",
    "plt.title('Wind vs Ticket2', fontsize=14)\n",
    "plt.xlabel('wind', fontsize=14)\n",
    "plt.ylabel('Ticket2', fontsize=14)\n",
    "plt.grid(True)\n",
    "plt.show()"
   ]
  },
  {
   "cell_type": "code",
   "execution_count": 661,
   "metadata": {},
   "outputs": [],
   "source": [
    "#dividing the data into train and validate\n",
    "\n",
    "X= df[['StandardTemperature','Humidity','Wind']]\n",
    "Y= df[['Ticket1','Ticket2']]\n",
    "train_x,valid_x, train_y, valid_y = sklearn.model_selection.train_test_split(X,Y, random_state= 40, test_size= 0.2)"
   ]
  },
  {
   "cell_type": "code",
   "execution_count": 662,
   "metadata": {},
   "outputs": [],
   "source": [
    "#Importing Test Data\n",
    "\n",
    "df1= pd.read_csv(\"Test.csv\")\n",
    "df1.head(10)\n",
    "test_x= df1[['StandardTemperature','Humidity','Wind']]"
   ]
  },
  {
   "cell_type": "markdown",
   "metadata": {},
   "source": [
    "# Linear Model"
   ]
  },
  {
   "cell_type": "code",
   "execution_count": 663,
   "metadata": {},
   "outputs": [
    {
     "name": "stdout",
     "output_type": "stream",
     "text": [
      "Intercept: \n",
      " [ 21.88693486 112.09789975]\n",
      "Coefficients: \n",
      " [[120.842256    -0.74871685   6.99706375]\n",
      " [275.80047672  -1.81442866  54.56497169]]\n"
     ]
    }
   ],
   "source": [
    "# Fitting a linear model\n",
    "\n",
    "from sklearn import linear_model\n",
    "from sklearn.linear_model import LinearRegression\n",
    "import statsmodels.api as sm\n",
    "\n",
    "regr = linear_model.LinearRegression()\n",
    "# model=regr.fit(X, Y)\n",
    "model=regr.fit(train_x, train_y)\n",
    "\n",
    "print('Intercept: \\n', model.intercept_)\n",
    "print('Coefficients: \\n', model.coef_)\n"
   ]
  },
  {
   "cell_type": "code",
   "execution_count": 664,
   "metadata": {},
   "outputs": [
    {
     "data": {
      "text/plain": [
       "array([[  2.63051149,  59.81097974],\n",
       "       [ 36.39617016, 146.63602275],\n",
       "       [ 60.29127222, 198.02403935],\n",
       "       ...,\n",
       "       [ 36.56710919, 148.5952631 ],\n",
       "       [ 44.72513523, 161.11046594],\n",
       "       [ 11.68670299,  84.36811271]])"
      ]
     },
     "execution_count": 664,
     "metadata": {},
     "output_type": "execute_result"
    }
   ],
   "source": [
    "pred_lr= model.predict(valid_x)\n",
    "pred_lr"
   ]
  },
  {
   "cell_type": "code",
   "execution_count": 665,
   "metadata": {},
   "outputs": [
    {
     "name": "stdout",
     "output_type": "stream",
     "text": [
      "rmse=  88.41879201746518\n",
      "r^2= 0.2617740522930406\n"
     ]
    }
   ],
   "source": [
    "print('rmse= ',math.sqrt(sklearn.metrics.mean_squared_error(pred, valid_y)))\n",
    "print('r^2=', r2_score(valid_y, pred))"
   ]
  },
  {
   "cell_type": "markdown",
   "metadata": {},
   "source": [
    "# Plynomial Regression "
   ]
  },
  {
   "cell_type": "code",
   "execution_count": 666,
   "metadata": {},
   "outputs": [
    {
     "data": {
      "text/plain": [
       "LinearRegression(copy_X=True, fit_intercept=True, n_jobs=None,\n",
       "         normalize=False)"
      ]
     },
     "execution_count": 666,
     "metadata": {},
     "output_type": "execute_result"
    }
   ],
   "source": [
    "# Fitting polynomial regression model\n",
    "from sklearn.preprocessing import PolynomialFeatures \n",
    "poly = PolynomialFeatures(degree=3)\n",
    "X_ = poly.fit_transform(train_x)\n",
    "predict_ = poly.fit_transform(valid_x)\n",
    "\n",
    "clf = linear_model.LinearRegression()\n",
    "clf.fit(X_, train_y)\n",
    "\n",
    "#test case\n",
    "# poly = PolynomialFeatures(degree=4)\n",
    "# X_ = poly.fit_transform(X)\n",
    "# predict_ = poly.fit_transform(test_x)\n",
    "\n",
    "# clf = linear_model.LinearRegression()\n",
    "# clf.fit(X_, Y)"
   ]
  },
  {
   "cell_type": "code",
   "execution_count": 668,
   "metadata": {},
   "outputs": [],
   "source": [
    "pred_poly=clf.predict(predict_)"
   ]
  },
  {
   "cell_type": "code",
   "execution_count": 669,
   "metadata": {},
   "outputs": [
    {
     "name": "stdout",
     "output_type": "stream",
     "text": [
      "rmse=  87.1489236948856\n",
      "r^2= 0.2921045972370151\n"
     ]
    },
    {
     "data": {
      "text/html": [
       "<div>\n",
       "<style scoped>\n",
       "    .dataframe tbody tr th:only-of-type {\n",
       "        vertical-align: middle;\n",
       "    }\n",
       "\n",
       "    .dataframe tbody tr th {\n",
       "        vertical-align: top;\n",
       "    }\n",
       "\n",
       "    .dataframe thead th {\n",
       "        text-align: right;\n",
       "    }\n",
       "</style>\n",
       "<table border=\"1\" class=\"dataframe\">\n",
       "  <thead>\n",
       "    <tr style=\"text-align: right;\">\n",
       "      <th></th>\n",
       "      <th>Ticket1</th>\n",
       "      <th>Ticket2</th>\n",
       "    </tr>\n",
       "  </thead>\n",
       "  <tbody>\n",
       "    <tr>\n",
       "      <th>4959</th>\n",
       "      <td>5</td>\n",
       "      <td>52</td>\n",
       "    </tr>\n",
       "    <tr>\n",
       "      <th>10945</th>\n",
       "      <td>31</td>\n",
       "      <td>72</td>\n",
       "    </tr>\n",
       "    <tr>\n",
       "      <th>12171</th>\n",
       "      <td>69</td>\n",
       "      <td>398</td>\n",
       "    </tr>\n",
       "    <tr>\n",
       "      <th>1552</th>\n",
       "      <td>72</td>\n",
       "      <td>336</td>\n",
       "    </tr>\n",
       "    <tr>\n",
       "      <th>654</th>\n",
       "      <td>24</td>\n",
       "      <td>59</td>\n",
       "    </tr>\n",
       "  </tbody>\n",
       "</table>\n",
       "</div>"
      ],
      "text/plain": [
       "       Ticket1  Ticket2\n",
       "4959         5       52\n",
       "10945       31       72\n",
       "12171       69      398\n",
       "1552        72      336\n",
       "654         24       59"
      ]
     },
     "execution_count": 669,
     "metadata": {},
     "output_type": "execute_result"
    }
   ],
   "source": [
    "print('rmse= ',math.sqrt(sklearn.metrics.mean_squared_error(pred_poly, valid_y)))\n",
    "print('r^2=', r2_score(valid_y, pred_poly))\n",
    "valid_y.head(5)"
   ]
  },
  {
   "cell_type": "code",
   "execution_count": 650,
   "metadata": {},
   "outputs": [
    {
     "data": {
      "text/plain": [
       "array([[ 41.06353009, 148.64817181],\n",
       "       [ 22.85950655, 106.06334257],\n",
       "       [ 30.87930999, 127.04204985],\n",
       "       [ 51.93348583, 189.28668243],\n",
       "       [ 38.97923303, 153.99383072],\n",
       "       [ 13.03417416,  89.21613717],\n",
       "       [  6.08443245,  68.05552793],\n",
       "       [ 68.22878687, 221.72830502],\n",
       "       [ 28.30291394, 123.72977984],\n",
       "       [ 31.44307594, 133.32842842]])"
      ]
     },
     "execution_count": 650,
     "metadata": {},
     "output_type": "execute_result"
    }
   ],
   "source": [
    "pred_lr[0:10]"
   ]
  },
  {
   "cell_type": "code",
   "execution_count": 649,
   "metadata": {},
   "outputs": [
    {
     "data": {
      "text/plain": [
       "array([[ 32.80822975, 131.91911342],\n",
       "       [ 20.11512528, 107.07996156],\n",
       "       [ 23.04010625, 115.76061888],\n",
       "       [ 49.50662302, 179.9403182 ],\n",
       "       [ 36.69125632, 158.5704819 ],\n",
       "       [ 12.85345218,  78.34500179],\n",
       "       [ 12.55045622,  89.78211123],\n",
       "       [ 86.29643861, 260.30021336],\n",
       "       [ 26.19816716, 125.67526183],\n",
       "       [ 26.70648926, 130.15957483]])"
      ]
     },
     "execution_count": 649,
     "metadata": {},
     "output_type": "execute_result"
    }
   ],
   "source": [
    "pred_poly[0:10]"
   ]
  },
  {
   "cell_type": "code",
   "execution_count": 655,
   "metadata": {},
   "outputs": [
    {
     "data": {
      "text/html": [
       "<div>\n",
       "<style scoped>\n",
       "    .dataframe tbody tr th:only-of-type {\n",
       "        vertical-align: middle;\n",
       "    }\n",
       "\n",
       "    .dataframe tbody tr th {\n",
       "        vertical-align: top;\n",
       "    }\n",
       "\n",
       "    .dataframe thead th {\n",
       "        text-align: right;\n",
       "    }\n",
       "</style>\n",
       "<table border=\"1\" class=\"dataframe\">\n",
       "  <thead>\n",
       "    <tr style=\"text-align: right;\">\n",
       "      <th></th>\n",
       "      <th>Ticket1</th>\n",
       "      <th>Ticket2</th>\n",
       "    </tr>\n",
       "  </thead>\n",
       "  <tbody>\n",
       "    <tr>\n",
       "      <th>0</th>\n",
       "      <td>33.0</td>\n",
       "      <td>132.0</td>\n",
       "    </tr>\n",
       "    <tr>\n",
       "      <th>1</th>\n",
       "      <td>20.0</td>\n",
       "      <td>107.0</td>\n",
       "    </tr>\n",
       "    <tr>\n",
       "      <th>2</th>\n",
       "      <td>23.0</td>\n",
       "      <td>116.0</td>\n",
       "    </tr>\n",
       "    <tr>\n",
       "      <th>3</th>\n",
       "      <td>50.0</td>\n",
       "      <td>180.0</td>\n",
       "    </tr>\n",
       "    <tr>\n",
       "      <th>4</th>\n",
       "      <td>37.0</td>\n",
       "      <td>159.0</td>\n",
       "    </tr>\n",
       "    <tr>\n",
       "      <th>5</th>\n",
       "      <td>13.0</td>\n",
       "      <td>78.0</td>\n",
       "    </tr>\n",
       "    <tr>\n",
       "      <th>6</th>\n",
       "      <td>13.0</td>\n",
       "      <td>90.0</td>\n",
       "    </tr>\n",
       "    <tr>\n",
       "      <th>7</th>\n",
       "      <td>86.0</td>\n",
       "      <td>260.0</td>\n",
       "    </tr>\n",
       "    <tr>\n",
       "      <th>8</th>\n",
       "      <td>26.0</td>\n",
       "      <td>126.0</td>\n",
       "    </tr>\n",
       "    <tr>\n",
       "      <th>9</th>\n",
       "      <td>27.0</td>\n",
       "      <td>130.0</td>\n",
       "    </tr>\n",
       "    <tr>\n",
       "      <th>10</th>\n",
       "      <td>13.0</td>\n",
       "      <td>97.0</td>\n",
       "    </tr>\n",
       "    <tr>\n",
       "      <th>11</th>\n",
       "      <td>34.0</td>\n",
       "      <td>144.0</td>\n",
       "    </tr>\n",
       "    <tr>\n",
       "      <th>12</th>\n",
       "      <td>6.0</td>\n",
       "      <td>77.0</td>\n",
       "    </tr>\n",
       "    <tr>\n",
       "      <th>13</th>\n",
       "      <td>23.0</td>\n",
       "      <td>118.0</td>\n",
       "    </tr>\n",
       "    <tr>\n",
       "      <th>14</th>\n",
       "      <td>3.0</td>\n",
       "      <td>61.0</td>\n",
       "    </tr>\n",
       "    <tr>\n",
       "      <th>15</th>\n",
       "      <td>11.0</td>\n",
       "      <td>89.0</td>\n",
       "    </tr>\n",
       "    <tr>\n",
       "      <th>16</th>\n",
       "      <td>21.0</td>\n",
       "      <td>104.0</td>\n",
       "    </tr>\n",
       "    <tr>\n",
       "      <th>17</th>\n",
       "      <td>76.0</td>\n",
       "      <td>203.0</td>\n",
       "    </tr>\n",
       "    <tr>\n",
       "      <th>18</th>\n",
       "      <td>45.0</td>\n",
       "      <td>167.0</td>\n",
       "    </tr>\n",
       "    <tr>\n",
       "      <th>19</th>\n",
       "      <td>45.0</td>\n",
       "      <td>176.0</td>\n",
       "    </tr>\n",
       "    <tr>\n",
       "      <th>20</th>\n",
       "      <td>18.0</td>\n",
       "      <td>106.0</td>\n",
       "    </tr>\n",
       "    <tr>\n",
       "      <th>21</th>\n",
       "      <td>32.0</td>\n",
       "      <td>130.0</td>\n",
       "    </tr>\n",
       "    <tr>\n",
       "      <th>22</th>\n",
       "      <td>28.0</td>\n",
       "      <td>141.0</td>\n",
       "    </tr>\n",
       "    <tr>\n",
       "      <th>23</th>\n",
       "      <td>64.0</td>\n",
       "      <td>215.0</td>\n",
       "    </tr>\n",
       "    <tr>\n",
       "      <th>24</th>\n",
       "      <td>13.0</td>\n",
       "      <td>97.0</td>\n",
       "    </tr>\n",
       "    <tr>\n",
       "      <th>25</th>\n",
       "      <td>54.0</td>\n",
       "      <td>195.0</td>\n",
       "    </tr>\n",
       "    <tr>\n",
       "      <th>26</th>\n",
       "      <td>6.0</td>\n",
       "      <td>70.0</td>\n",
       "    </tr>\n",
       "    <tr>\n",
       "      <th>27</th>\n",
       "      <td>97.0</td>\n",
       "      <td>273.0</td>\n",
       "    </tr>\n",
       "    <tr>\n",
       "      <th>28</th>\n",
       "      <td>6.0</td>\n",
       "      <td>76.0</td>\n",
       "    </tr>\n",
       "    <tr>\n",
       "      <th>29</th>\n",
       "      <td>16.0</td>\n",
       "      <td>103.0</td>\n",
       "    </tr>\n",
       "    <tr>\n",
       "      <th>...</th>\n",
       "      <td>...</td>\n",
       "      <td>...</td>\n",
       "    </tr>\n",
       "    <tr>\n",
       "      <th>2970</th>\n",
       "      <td>60.0</td>\n",
       "      <td>208.0</td>\n",
       "    </tr>\n",
       "    <tr>\n",
       "      <th>2971</th>\n",
       "      <td>67.0</td>\n",
       "      <td>226.0</td>\n",
       "    </tr>\n",
       "    <tr>\n",
       "      <th>2972</th>\n",
       "      <td>12.0</td>\n",
       "      <td>94.0</td>\n",
       "    </tr>\n",
       "    <tr>\n",
       "      <th>2973</th>\n",
       "      <td>27.0</td>\n",
       "      <td>118.0</td>\n",
       "    </tr>\n",
       "    <tr>\n",
       "      <th>2974</th>\n",
       "      <td>11.0</td>\n",
       "      <td>100.0</td>\n",
       "    </tr>\n",
       "    <tr>\n",
       "      <th>2975</th>\n",
       "      <td>15.0</td>\n",
       "      <td>96.0</td>\n",
       "    </tr>\n",
       "    <tr>\n",
       "      <th>2976</th>\n",
       "      <td>12.0</td>\n",
       "      <td>91.0</td>\n",
       "    </tr>\n",
       "    <tr>\n",
       "      <th>2977</th>\n",
       "      <td>25.0</td>\n",
       "      <td>115.0</td>\n",
       "    </tr>\n",
       "    <tr>\n",
       "      <th>2978</th>\n",
       "      <td>30.0</td>\n",
       "      <td>132.0</td>\n",
       "    </tr>\n",
       "    <tr>\n",
       "      <th>2979</th>\n",
       "      <td>4.0</td>\n",
       "      <td>73.0</td>\n",
       "    </tr>\n",
       "    <tr>\n",
       "      <th>2980</th>\n",
       "      <td>29.0</td>\n",
       "      <td>131.0</td>\n",
       "    </tr>\n",
       "    <tr>\n",
       "      <th>2981</th>\n",
       "      <td>95.0</td>\n",
       "      <td>272.0</td>\n",
       "    </tr>\n",
       "    <tr>\n",
       "      <th>2982</th>\n",
       "      <td>7.0</td>\n",
       "      <td>74.0</td>\n",
       "    </tr>\n",
       "    <tr>\n",
       "      <th>2983</th>\n",
       "      <td>6.0</td>\n",
       "      <td>68.0</td>\n",
       "    </tr>\n",
       "    <tr>\n",
       "      <th>2984</th>\n",
       "      <td>36.0</td>\n",
       "      <td>131.0</td>\n",
       "    </tr>\n",
       "    <tr>\n",
       "      <th>2985</th>\n",
       "      <td>70.0</td>\n",
       "      <td>226.0</td>\n",
       "    </tr>\n",
       "    <tr>\n",
       "      <th>2986</th>\n",
       "      <td>45.0</td>\n",
       "      <td>169.0</td>\n",
       "    </tr>\n",
       "    <tr>\n",
       "      <th>2987</th>\n",
       "      <td>39.0</td>\n",
       "      <td>168.0</td>\n",
       "    </tr>\n",
       "    <tr>\n",
       "      <th>2988</th>\n",
       "      <td>76.0</td>\n",
       "      <td>237.0</td>\n",
       "    </tr>\n",
       "    <tr>\n",
       "      <th>2989</th>\n",
       "      <td>59.0</td>\n",
       "      <td>190.0</td>\n",
       "    </tr>\n",
       "    <tr>\n",
       "      <th>2990</th>\n",
       "      <td>16.0</td>\n",
       "      <td>97.0</td>\n",
       "    </tr>\n",
       "    <tr>\n",
       "      <th>2991</th>\n",
       "      <td>50.0</td>\n",
       "      <td>175.0</td>\n",
       "    </tr>\n",
       "    <tr>\n",
       "      <th>2992</th>\n",
       "      <td>86.0</td>\n",
       "      <td>251.0</td>\n",
       "    </tr>\n",
       "    <tr>\n",
       "      <th>2993</th>\n",
       "      <td>48.0</td>\n",
       "      <td>169.0</td>\n",
       "    </tr>\n",
       "    <tr>\n",
       "      <th>2994</th>\n",
       "      <td>7.0</td>\n",
       "      <td>57.0</td>\n",
       "    </tr>\n",
       "    <tr>\n",
       "      <th>2995</th>\n",
       "      <td>29.0</td>\n",
       "      <td>124.0</td>\n",
       "    </tr>\n",
       "    <tr>\n",
       "      <th>2996</th>\n",
       "      <td>7.0</td>\n",
       "      <td>79.0</td>\n",
       "    </tr>\n",
       "    <tr>\n",
       "      <th>2997</th>\n",
       "      <td>3.0</td>\n",
       "      <td>63.0</td>\n",
       "    </tr>\n",
       "    <tr>\n",
       "      <th>2998</th>\n",
       "      <td>23.0</td>\n",
       "      <td>117.0</td>\n",
       "    </tr>\n",
       "    <tr>\n",
       "      <th>2999</th>\n",
       "      <td>16.0</td>\n",
       "      <td>93.0</td>\n",
       "    </tr>\n",
       "  </tbody>\n",
       "</table>\n",
       "<p>3000 rows × 2 columns</p>\n",
       "</div>"
      ],
      "text/plain": [
       "      Ticket1  Ticket2\n",
       "0        33.0    132.0\n",
       "1        20.0    107.0\n",
       "2        23.0    116.0\n",
       "3        50.0    180.0\n",
       "4        37.0    159.0\n",
       "5        13.0     78.0\n",
       "6        13.0     90.0\n",
       "7        86.0    260.0\n",
       "8        26.0    126.0\n",
       "9        27.0    130.0\n",
       "10       13.0     97.0\n",
       "11       34.0    144.0\n",
       "12        6.0     77.0\n",
       "13       23.0    118.0\n",
       "14        3.0     61.0\n",
       "15       11.0     89.0\n",
       "16       21.0    104.0\n",
       "17       76.0    203.0\n",
       "18       45.0    167.0\n",
       "19       45.0    176.0\n",
       "20       18.0    106.0\n",
       "21       32.0    130.0\n",
       "22       28.0    141.0\n",
       "23       64.0    215.0\n",
       "24       13.0     97.0\n",
       "25       54.0    195.0\n",
       "26        6.0     70.0\n",
       "27       97.0    273.0\n",
       "28        6.0     76.0\n",
       "29       16.0    103.0\n",
       "...       ...      ...\n",
       "2970     60.0    208.0\n",
       "2971     67.0    226.0\n",
       "2972     12.0     94.0\n",
       "2973     27.0    118.0\n",
       "2974     11.0    100.0\n",
       "2975     15.0     96.0\n",
       "2976     12.0     91.0\n",
       "2977     25.0    115.0\n",
       "2978     30.0    132.0\n",
       "2979      4.0     73.0\n",
       "2980     29.0    131.0\n",
       "2981     95.0    272.0\n",
       "2982      7.0     74.0\n",
       "2983      6.0     68.0\n",
       "2984     36.0    131.0\n",
       "2985     70.0    226.0\n",
       "2986     45.0    169.0\n",
       "2987     39.0    168.0\n",
       "2988     76.0    237.0\n",
       "2989     59.0    190.0\n",
       "2990     16.0     97.0\n",
       "2991     50.0    175.0\n",
       "2992     86.0    251.0\n",
       "2993     48.0    169.0\n",
       "2994      7.0     57.0\n",
       "2995     29.0    124.0\n",
       "2996      7.0     79.0\n",
       "2997      3.0     63.0\n",
       "2998     23.0    117.0\n",
       "2999     16.0     93.0\n",
       "\n",
       "[3000 rows x 2 columns]"
      ]
     },
     "execution_count": 655,
     "metadata": {},
     "output_type": "execute_result"
    }
   ],
   "source": [
    "final=pd.DataFrame(data=pred_poly)\n",
    "final.columns=['Ticket1','Ticket2']\n",
    "final['Ticket1'].astype(int)\n",
    "final['Ticket2'].astype(int)\n",
    "final=final.round()\n",
    "final"
   ]
  },
  {
   "cell_type": "code",
   "execution_count": 656,
   "metadata": {},
   "outputs": [],
   "source": [
    "#output\n",
    "final.to_csv('A.csv',index=False)"
   ]
  }
 ],
 "metadata": {
  "kernelspec": {
   "display_name": "Python 3",
   "language": "python",
   "name": "python3"
  },
  "language_info": {
   "codemirror_mode": {
    "name": "ipython",
    "version": 3
   },
   "file_extension": ".py",
   "mimetype": "text/x-python",
   "name": "python",
   "nbconvert_exporter": "python",
   "pygments_lexer": "ipython3",
   "version": "3.7.0"
  }
 },
 "nbformat": 4,
 "nbformat_minor": 2
}
